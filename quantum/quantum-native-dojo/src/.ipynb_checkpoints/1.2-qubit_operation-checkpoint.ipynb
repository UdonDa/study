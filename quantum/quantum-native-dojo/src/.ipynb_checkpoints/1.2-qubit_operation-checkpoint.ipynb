{
 "cells": [
  {
   "cell_type": "code",
   "execution_count": 1,
   "metadata": {},
   "outputs": [],
   "source": [
    "from IPython.display import Image, display_png\n",
    "from sympy import *\n",
    "from sympy.physics.quantum import *\n",
    "from sympy.physics.quantum.qubit import Qubit,QubitBra\n",
    "init_printing() # ベクトルや行列を綺麗に表示するため"
   ]
  },
  {
   "cell_type": "code",
   "execution_count": 2,
   "metadata": {},
   "outputs": [],
   "source": [
    "from IPython.display import HTML\n",
    "def setup_mathjax():\n",
    "    display(HTML('''\n",
    "    <script>\n",
    "        if (!window.MathJax) {\n",
    "            window.MathJax = {\n",
    "                'tex2jax': {\n",
    "                    'inlineMath': [['$', '$'], ['\\\\(', '\\\\)']],\n",
    "                    'displayMath': [['$$', '$$'], ['\\\\[', '\\\\]']],\n",
    "                    'processEscapes': true,\n",
    "                    'processEnvironments': true,\n",
    "                    'skipTags': ['script', 'noscript', 'style', 'textarea', 'code'],\n",
    "                    'displayAlign': 'center',\n",
    "                },\n",
    "                'HTML-CSS': {\n",
    "                    'styles': {'.MathJax_Display': {'margin': 0}},\n",
    "                    'linebreaks': {'automatic': true},\n",
    "                    // Disable to prevent OTF font loading, which aren't part of our\n",
    "                    // distribution.\n",
    "                    'imageFont': null,\n",
    "                },\n",
    "               'messageStyle': 'none'\n",
    "            };\n",
    "            var script = document.createElement(\"script\");\n",
    "            script.src = \"https://colab.research.google.com/static/mathjax/MathJax.js?config=TeX-AMS_HTML-full,Safe\";\n",
    "            document.head.appendChild(script);\n",
    "        }\n",
    "    </script>\n",
    "    '''))\n",
    "get_ipython().events.register('pre_run_cell', setup_mathjax)"
   ]
  },
  {
   "cell_type": "code",
   "execution_count": 3,
   "metadata": {},
   "outputs": [
    {
     "data": {
      "text/html": [
       "\n",
       "    <script>\n",
       "        if (!window.MathJax) {\n",
       "            window.MathJax = {\n",
       "                'tex2jax': {\n",
       "                    'inlineMath': [['$', '$'], ['\\(', '\\)']],\n",
       "                    'displayMath': [['$$', '$$'], ['\\[', '\\]']],\n",
       "                    'processEscapes': true,\n",
       "                    'processEnvironments': true,\n",
       "                    'skipTags': ['script', 'noscript', 'style', 'textarea', 'code'],\n",
       "                    'displayAlign': 'center',\n",
       "                },\n",
       "                'HTML-CSS': {\n",
       "                    'styles': {'.MathJax_Display': {'margin': 0}},\n",
       "                    'linebreaks': {'automatic': true},\n",
       "                    // Disable to prevent OTF font loading, which aren't part of our\n",
       "                    // distribution.\n",
       "                    'imageFont': null,\n",
       "                },\n",
       "               'messageStyle': 'none'\n",
       "            };\n",
       "            var script = document.createElement(\"script\");\n",
       "            script.src = \"https://colab.research.google.com/static/mathjax/MathJax.js?config=TeX-AMS_HTML-full,Safe\";\n",
       "            document.head.appendChild(script);\n",
       "        }\n",
       "    </script>\n",
       "    "
      ],
      "text/plain": [
       "<IPython.core.display.HTML object>"
      ]
     },
     "metadata": {},
     "output_type": "display_data"
    }
   ],
   "source": [
    "from sympy.physics.quantum.gate import X, Y, Z, H, S, T, CNOT, SWAP, CPHASE"
   ]
  },
  {
   "cell_type": "code",
   "execution_count": null,
   "metadata": {},
   "outputs": [],
   "source": [
    "# パウリX\n",
    "represent(X(0), nqubi)"
   ]
  },
  {
   "cell_type": "code",
   "execution_count": null,
   "metadata": {},
   "outputs": [],
   "source": []
  },
  {
   "cell_type": "code",
   "execution_count": null,
   "metadata": {},
   "outputs": [],
   "source": []
  },
  {
   "cell_type": "code",
   "execution_count": null,
   "metadata": {},
   "outputs": [],
   "source": []
  },
  {
   "cell_type": "code",
   "execution_count": null,
   "metadata": {},
   "outputs": [],
   "source": []
  },
  {
   "cell_type": "code",
   "execution_count": null,
   "metadata": {},
   "outputs": [],
   "source": []
  },
  {
   "cell_type": "code",
   "execution_count": null,
   "metadata": {},
   "outputs": [],
   "source": []
  },
  {
   "cell_type": "code",
   "execution_count": null,
   "metadata": {},
   "outputs": [],
   "source": []
  },
  {
   "cell_type": "code",
   "execution_count": null,
   "metadata": {},
   "outputs": [],
   "source": []
  },
  {
   "cell_type": "code",
   "execution_count": null,
   "metadata": {},
   "outputs": [],
   "source": []
  },
  {
   "cell_type": "code",
   "execution_count": null,
   "metadata": {},
   "outputs": [],
   "source": []
  },
  {
   "cell_type": "code",
   "execution_count": null,
   "metadata": {},
   "outputs": [],
   "source": []
  },
  {
   "cell_type": "code",
   "execution_count": null,
   "metadata": {},
   "outputs": [],
   "source": []
  },
  {
   "cell_type": "code",
   "execution_count": null,
   "metadata": {},
   "outputs": [],
   "source": []
  }
 ],
 "metadata": {
  "kernelspec": {
   "display_name": "Python 3",
   "language": "python",
   "name": "python3"
  },
  "language_info": {
   "codemirror_mode": {
    "name": "ipython",
    "version": 3
   },
   "file_extension": ".py",
   "mimetype": "text/x-python",
   "name": "python",
   "nbconvert_exporter": "python",
   "pygments_lexer": "ipython3",
   "version": "3.7.3"
  }
 },
 "nbformat": 4,
 "nbformat_minor": 2
}
