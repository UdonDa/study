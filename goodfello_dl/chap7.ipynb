{
 "cells": [
  {
   "cell_type": "code",
   "execution_count": 30,
   "metadata": {},
   "outputs": [
    {
     "name": "stderr",
     "output_type": "stream",
     "text": [
      "/Users/daichi/.pyenv/versions/anaconda3-5.0.1/lib/python3.6/site-packages/sklearn/cross_validation.py:41: DeprecationWarning: This module was deprecated in version 0.18 in favor of the model_selection module into which all the refactored classes and functions are moved. Also note that the interface of the new CV iterators are different from that of this module. This module will be removed in 0.20.\n",
      "  \"This module will be removed in 0.20.\", DeprecationWarning)\n",
      "/Users/daichi/.pyenv/versions/anaconda3-5.0.1/lib/python3.6/site-packages/sklearn/grid_search.py:42: DeprecationWarning: This module was deprecated in version 0.18 in favor of the model_selection module into which all the refactored classes and functions are moved. This module will be removed in 0.20.\n",
      "  DeprecationWarning)\n"
     ]
    }
   ],
   "source": [
    "from sklearn.preprocessing import PolynomialFeatures\n",
    "import numpy as np\n",
    "from sklearn import linear_model, grid_search\n",
    "import matplotlib.pyplot as plt\n",
    "%matplotlib inline"
   ]
  },
  {
   "cell_type": "code",
   "execution_count": 33,
   "metadata": {
    "collapsed": true
   },
   "outputs": [],
   "source": [
    "X = np.linspace(-10, 10, 20)\n",
    "Y = 0.001 * (X*X*X + X*X + X) + np.random.normal(0, 0.1, len(X))\n",
    "poly = PolynomialFeatures(degree=10)\n",
    "X_poly = poly.fit_transform(X[:, np.newaxis])"
   ]
  },
  {
   "cell_type": "code",
   "execution_count": 35,
   "metadata": {
    "collapsed": true
   },
   "outputs": [],
   "source": [
    "parameters_1 = {'alpha' : np.logspace(-3, 1, 100)}\n",
    "parameters_2 = {'alpha' : np.logspace(1, 4, 100)}\n",
    "parameters_3 = {'alpha' : np.logspace(-3, 1, 100), 'L1_ratio' : np.logspace(-1, 0, 10)}"
   ]
  },
  {
   "cell_type": "code",
   "execution_count": 41,
   "metadata": {},
   "outputs": [
    {
     "name": "stdout",
     "output_type": "stream",
     "text": [
      "Lasso Regression:\n",
      "{'alpha': 0.0023101297000831605}\n",
      "[ 0.00000000e+00  2.20596081e-02  0.00000000e+00  6.04191432e-04\n",
      "  0.00000000e+00  1.56005736e-06  0.00000000e+00  0.00000000e+00\n",
      "  0.00000000e+00  0.00000000e+00 -5.33266229e-13]\n"
     ]
    }
   ],
   "source": [
    "model_l1 = grid_search.GridSearchCV(linear_model.LassoLars(), parameters_1, cv=10)\n",
    "model_l1.fit(X_poly, Y)\n",
    "print(\"Lasso Regression:\")\n",
    "print(model_l1.best_params_)\n",
    "print(model_l1.best_estimator_.coef_)"
   ]
  },
  {
   "cell_type": "code",
   "execution_count": 42,
   "metadata": {},
   "outputs": [
    {
     "name": "stdout",
     "output_type": "stream",
     "text": [
      "Redge Regression: \n",
      "{'alpha': 932.60334688322}\n",
      "[ 0.00000000e+00  5.93467562e-04 -6.69251013e-04  2.79907057e-03\n",
      " -5.10381865e-05 -7.44302943e-05  6.89317324e-06  1.04270033e-06\n",
      " -1.30680435e-07 -4.79494126e-09  6.73385863e-10]\n"
     ]
    }
   ],
   "source": [
    "model_l2 = grid_search.GridSearchCV(linear_model.Ridge(), parameters_2, cv=10)\n",
    "model_l2.fit(X_poly, Y)\n",
    "print(\"Redge Regression: \")\n",
    "print(model_l2.best_params_)\n",
    "print(model_l2.best_estimator_.coef_)"
   ]
  },
  {
   "cell_type": "code",
   "execution_count": 43,
   "metadata": {
    "collapsed": true
   },
   "outputs": [],
   "source": [
    "xs = np.linspace(-10, 10, 200)\n",
    "Y_predict_1 = model_l1.predict(poly.fit_transform(xs[:, np.newaxis]))\n",
    "Y_predict_2 = model_l2.predict(poly.fit_transform(xs[:, np.newaxis]))"
   ]
  },
  {
   "cell_type": "code",
   "execution_count": 46,
   "metadata": {},
   "outputs": [
    {
     "data": {
      "image/png": "[encoded data removed]",
      "text/plain": [
       "<matplotlib.figure.Figure at 0x1a141d0e10>"
      ]
     },
     "metadata": {},
     "output_type": "display_data"
    }
   ],
   "source": [
    "plt.plot(X, Y, \".\", color=\"k\")\n",
    "plt.plot(xs, Y_predict_1, '-', color='r', label='Lasso(L1)')\n",
    "plt.plot(xs, Y_predict_2, '-', color='g', label='Ridge(L2)')\n",
    "plt.legend(loc='lower right')\n",
    "plt.show()"
   ]
  },
  {
   "cell_type": "code",
   "execution_count": null,
   "metadata": {
    "collapsed": true
   },
   "outputs": [],
   "source": []
  }
 ],
 "metadata": {
  "kernelspec": {
   "display_name": "Python 3",
   "language": "python",
   "name": "python3"
  },
  "language_info": {
   "codemirror_mode": {
    "name": "ipython",
    "version": 3
   },
   "file_extension": ".py",
   "mimetype": "text/x-python",
   "name": "python",
   "nbconvert_exporter": "python",
   "pygments_lexer": "ipython3",
   "version": "3.6.8"
  }
 },
 "nbformat": 4,
 "nbformat_minor": 2
}
